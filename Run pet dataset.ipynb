{
 "cells": [
  {
   "cell_type": "code",
   "execution_count": 1,
   "id": "85e6fa96",
   "metadata": {},
   "outputs": [],
   "source": [
    "from scivision import default_catalog, load_pretrained_model\n",
    "import matplotlib.pyplot as plt\n",
    "from scivision import load_dataset\n",
    "import matplotlib.pyplot as plt"
   ]
  },
  {
   "cell_type": "code",
   "execution_count": 2,
   "id": "63c17fe8",
   "metadata": {},
   "outputs": [
    {
     "data": {
      "text/plain": [
       "FlexibleUrl('https://github.com/MattyB95/catdog_segmentation_model', scheme='https', host='github.com', tld='com', host_type='domain', path='/MattyB95/catdog_segmentation_model')"
      ]
     },
     "execution_count": 2,
     "metadata": {},
     "output_type": "execute_result"
    }
   ],
   "source": [
    "models_catalog = default_catalog.models.to_dataframe()\n",
    "models_catalog\n",
    "model_repo = models_catalog[models_catalog.name == \"conv_net_model_mse10\"].url.item()\n",
    "model_repo # Why not paste the repo link into your browser and see how it looks?\n",
    "# Inspecting model entry and its metadata in the default catalog\n",
    "models_catalog[models_catalog.name == \"conv_net_model_mse10\"]\n",
    "model_repo"
   ]
  },
  {
   "cell_type": "code",
   "execution_count": 3,
   "id": "881039c7",
   "metadata": {},
   "outputs": [
    {
     "ename": "RuntimeError",
     "evalue": "Error(s) in loading state_dict for UNet:\n\tMissing key(s) in state_dict: \"encoder.encoding_blocks.0.conv1.conv_layer.weight\", \"encoder.encoding_blocks.0.conv1.conv_layer.bias\", \"encoder.encoding_blocks.0.conv1.block.0.weight\", \"encoder.encoding_blocks.0.conv1.block.0.bias\", \"encoder.encoding_blocks.0.conv2.conv_layer.weight\", \"encoder.encoding_blocks.0.conv2.conv_layer.bias\", \"encoder.encoding_blocks.0.conv2.block.0.weight\", \"encoder.encoding_blocks.0.conv2.block.0.bias\", \"encoder.encoding_blocks.1.conv1.conv_layer.weight\", \"encoder.encoding_blocks.1.conv1.conv_layer.bias\", \"encoder.encoding_blocks.1.conv1.block.0.weight\", \"encoder.encoding_blocks.1.conv1.block.0.bias\", \"encoder.encoding_blocks.1.conv2.conv_layer.weight\", \"encoder.encoding_blocks.1.conv2.conv_layer.bias\", \"encoder.encoding_blocks.1.conv2.block.0.weight\", \"encoder.encoding_blocks.1.conv2.block.0.bias\", \"encoder.encoding_blocks.2.conv1.conv_layer.weight\", \"encoder.encoding_blocks.2.conv1.conv_layer.bias\", \"encoder.encoding_blocks.2.conv1.block.0.weight\", \"encoder.encoding_blocks.2.conv1.block.0.bias\", \"encoder.encoding_blocks.2.conv2.conv_layer.weight\", \"encoder.encoding_blocks.2.conv2.conv_layer.bias\", \"encoder.encoding_blocks.2.conv2.block.0.weight\", \"encoder.encoding_blocks.2.conv2.block.0.bias\", \"encoder.encoding_blocks.3.conv1.conv_layer.weight\", \"encoder.encoding_blocks.3.conv1.conv_layer.bias\", \"encoder.encoding_blocks.3.conv1.block.0.weight\", \"encoder.encoding_blocks.3.conv1.block.0.bias\", \"encoder.encoding_blocks.3.conv2.conv_layer.weight\", \"encoder.encoding_blocks.3.conv2.conv_layer.bias\", \"encoder.encoding_blocks.3.conv2.block.0.weight\", \"encoder.encoding_blocks.3.conv2.block.0.bias\", \"bottom_block.conv1.conv_layer.weight\", \"bottom_block.conv1.conv_layer.bias\", \"bottom_block.conv1.block.0.weight\", \"bottom_block.conv1.block.0.bias\", \"bottom_block.conv2.conv_layer.weight\", \"bottom_block.conv2.conv_layer.bias\", \"bottom_block.conv2.block.0.weight\", \"bottom_block.conv2.block.0.bias\", \"decoder.decoding_blocks.0.upsample.weight\", \"decoder.decoding_blocks.0.upsample.bias\", \"decoder.decoding_blocks.0.conv1.conv_layer.weight\", \"decoder.decoding_blocks.0.conv1.conv_layer.bias\", \"decoder.decoding_blocks.0.conv1.block.0.weight\", \"decoder.decoding_blocks.0.conv1.block.0.bias\", \"decoder.decoding_blocks.0.conv2.conv_layer.weight\", \"decoder.decoding_blocks.0.conv2.conv_layer.bias\", \"decoder.decoding_blocks.0.conv2.block.0.weight\", \"decoder.decoding_blocks.0.conv2.block.0.bias\", \"decoder.decoding_blocks.1.upsample.weight\", \"decoder.decoding_blocks.1.upsample.bias\", \"decoder.decoding_blocks.1.conv1.conv_layer.weight\", \"decoder.decoding_blocks.1.conv1.conv_layer.bias\", \"decoder.decoding_blocks.1.conv1.block.0.weight\", \"decoder.decoding_blocks.1.conv1.block.0.bias\", \"decoder.decoding_blocks.1.conv2.conv_layer.weight\", \"decoder.decoding_blocks.1.conv2.conv_layer.bias\", \"decoder.decoding_blocks.1.conv2.block.0.weight\", \"decoder.decoding_blocks.1.conv2.block.0.bias\", \"decoder.decoding_blocks.2.upsample.weight\", \"decoder.decoding_blocks.2.upsample.bias\", \"decoder.decoding_blocks.2.conv1.conv_layer.weight\", \"decoder.decoding_blocks.2.conv1.conv_layer.bias\", \"decoder.decoding_blocks.2.conv1.block.0.weight\", \"decoder.decoding_blocks.2.conv1.block.0.bias\", \"decoder.decoding_blocks.2.conv2.conv_layer.weight\", \"decoder.decoding_blocks.2.conv2.conv_layer.bias\", \"decoder.decoding_blocks.2.conv2.block.0.weight\", \"decoder.decoding_blocks.2.conv2.block.0.bias\", \"decoder.decoding_blocks.3.upsample.weight\", \"decoder.decoding_blocks.3.upsample.bias\", \"decoder.decoding_blocks.3.conv1.conv_layer.weight\", \"decoder.decoding_blocks.3.conv1.conv_layer.bias\", \"decoder.decoding_blocks.3.conv1.block.0.weight\", \"decoder.decoding_blocks.3.conv1.block.0.bias\", \"decoder.decoding_blocks.3.conv2.conv_layer.weight\", \"decoder.decoding_blocks.3.conv2.conv_layer.bias\", \"decoder.decoding_blocks.3.conv2.block.0.weight\", \"decoder.decoding_blocks.3.conv2.block.0.bias\", \"classifier.conv_layer.weight\", \"classifier.conv_layer.bias\", \"classifier.block.0.weight\", \"classifier.block.0.bias\". \n\tUnexpected key(s) in state_dict: \"head.weight\", \"head.bias\", \"encoder.enc_blocks.0.conv1.weight\", \"encoder.enc_blocks.0.conv1.bias\", \"encoder.enc_blocks.0.conv2.weight\", \"encoder.enc_blocks.0.conv2.bias\", \"encoder.enc_blocks.1.conv1.weight\", \"encoder.enc_blocks.1.conv1.bias\", \"encoder.enc_blocks.1.conv2.weight\", \"encoder.enc_blocks.1.conv2.bias\", \"encoder.enc_blocks.2.conv1.weight\", \"encoder.enc_blocks.2.conv1.bias\", \"encoder.enc_blocks.2.conv2.weight\", \"encoder.enc_blocks.2.conv2.bias\", \"encoder.enc_blocks.3.conv1.weight\", \"encoder.enc_blocks.3.conv1.bias\", \"encoder.enc_blocks.3.conv2.weight\", \"encoder.enc_blocks.3.conv2.bias\", \"encoder.enc_blocks.4.conv1.weight\", \"encoder.enc_blocks.4.conv1.bias\", \"encoder.enc_blocks.4.conv2.weight\", \"encoder.enc_blocks.4.conv2.bias\", \"decoder.upconvs.0.weight\", \"decoder.upconvs.0.bias\", \"decoder.upconvs.1.weight\", \"decoder.upconvs.1.bias\", \"decoder.upconvs.2.weight\", \"decoder.upconvs.2.bias\", \"decoder.upconvs.3.weight\", \"decoder.upconvs.3.bias\", \"decoder.dec_blocks.0.conv1.weight\", \"decoder.dec_blocks.0.conv1.bias\", \"decoder.dec_blocks.0.conv2.weight\", \"decoder.dec_blocks.0.conv2.bias\", \"decoder.dec_blocks.1.conv1.weight\", \"decoder.dec_blocks.1.conv1.bias\", \"decoder.dec_blocks.1.conv2.weight\", \"decoder.dec_blocks.1.conv2.bias\", \"decoder.dec_blocks.2.conv1.weight\", \"decoder.dec_blocks.2.conv1.bias\", \"decoder.dec_blocks.2.conv2.weight\", \"decoder.dec_blocks.2.conv2.bias\", \"decoder.dec_blocks.3.conv1.weight\", \"decoder.dec_blocks.3.conv1.bias\", \"decoder.dec_blocks.3.conv2.weight\", \"decoder.dec_blocks.3.conv2.bias\". ",
     "output_type": "error",
     "traceback": [
      "\u001b[0;31m---------------------------------------------------------------------------\u001b[0m",
      "\u001b[0;31mRuntimeError\u001b[0m                              Traceback (most recent call last)",
      "Cell \u001b[0;32mIn [3], line 2\u001b[0m\n\u001b[1;32m      1\u001b[0m \u001b[38;5;66;03m# Note: when loading this model repo for the first time you'll need to add the allow_install=True flag\u001b[39;00m\n\u001b[0;32m----> 2\u001b[0m our_model \u001b[38;5;241m=\u001b[39m load_pretrained_model(model_repo, name \u001b[38;5;241m=\u001b[39m \u001b[38;5;124m\"\u001b[39m\u001b[38;5;124mconv_net_model_mse10\u001b[39m\u001b[38;5;124m\"\u001b[39m, allow_install\u001b[38;5;241m=\u001b[39m\u001b[38;5;28;01mTrue\u001b[39;00m)\n",
      "File \u001b[0;32m~/Documents/scivision-example/scivision/koala.py:57\u001b[0m, in \u001b[0;36mkoala.<locals>.wrapped_fn\u001b[0;34m(*args, **kwargs)\u001b[0m\n\u001b[1;32m     55\u001b[0m \u001b[38;5;66;03m# now call the function, but log any exceptions\u001b[39;00m\n\u001b[1;32m     56\u001b[0m \u001b[38;5;28;01mtry\u001b[39;00m:\n\u001b[0;32m---> 57\u001b[0m     output \u001b[38;5;241m=\u001b[39m \u001b[43mfn\u001b[49m\u001b[43m(\u001b[49m\u001b[38;5;241;43m*\u001b[39;49m\u001b[43margs\u001b[49m\u001b[43m,\u001b[49m\u001b[43m \u001b[49m\u001b[38;5;241;43m*\u001b[39;49m\u001b[38;5;241;43m*\u001b[39;49m\u001b[43mkwargs\u001b[49m\u001b[43m)\u001b[49m\n\u001b[1;32m     58\u001b[0m \u001b[38;5;28;01mexcept\u001b[39;00m \u001b[38;5;167;01mException\u001b[39;00m \u001b[38;5;28;01mas\u001b[39;00m e:\n\u001b[1;32m     59\u001b[0m     logger\u001b[38;5;241m.\u001b[39merror(e)\n",
      "File \u001b[0;32m~/Documents/scivision-example/scivision/io/reader.py:175\u001b[0m, in \u001b[0;36mload_pretrained_model\u001b[0;34m(path, branch, allow_install, model, load_multiple, *args, **kwargs)\u001b[0m\n\u001b[1;32m    172\u001b[0m     \u001b[38;5;66;03m# try to install the package if necessary\u001b[39;00m\n\u001b[1;32m    173\u001b[0m     install_package(config, allow_install\u001b[38;5;241m=\u001b[39mallow_install, branch\u001b[38;5;241m=\u001b[39mbranch)\n\u001b[0;32m--> 175\u001b[0m     loaded_models\u001b[38;5;241m.\u001b[39mappend(\u001b[43mPretrainedModel\u001b[49m\u001b[43m(\u001b[49m\u001b[43mconfig\u001b[49m\u001b[43m)\u001b[49m)\n\u001b[1;32m    176\u001b[0m \u001b[38;5;28;01mif\u001b[39;00m load_multiple:\n\u001b[1;32m    177\u001b[0m     \u001b[38;5;28;01mreturn\u001b[39;00m loaded_models\n",
      "File \u001b[0;32m~/Documents/scivision-example/scivision/io/wrapper.py:14\u001b[0m, in \u001b[0;36mPretrainedModel.__init__\u001b[0;34m(self, config)\u001b[0m\n\u001b[1;32m     12\u001b[0m \u001b[38;5;28;01mdef\u001b[39;00m \u001b[38;5;21m__init__\u001b[39m(\u001b[38;5;28mself\u001b[39m, config: \u001b[38;5;28mdict\u001b[39m):\n\u001b[1;32m     13\u001b[0m     \u001b[38;5;28mself\u001b[39m\u001b[38;5;241m.\u001b[39m_config \u001b[38;5;241m=\u001b[39m config\n\u001b[0;32m---> 14\u001b[0m     \u001b[38;5;28mself\u001b[39m\u001b[38;5;241m.\u001b[39m_plumbing \u001b[38;5;241m=\u001b[39m \u001b[43mAutoPlumber\u001b[49m\u001b[43m(\u001b[49m\u001b[43mconfig\u001b[49m\u001b[43m)\u001b[49m\n",
      "File \u001b[0;32m~/Documents/scivision-example/scivision/io/autoplumber.py:38\u001b[0m, in \u001b[0;36mAutoPlumber.__init__\u001b[0;34m(self, config)\u001b[0m\n\u001b[1;32m     34\u001b[0m model \u001b[38;5;241m=\u001b[39m \u001b[38;5;28mgetattr\u001b[39m(\u001b[38;5;28mself\u001b[39m\u001b[38;5;241m.\u001b[39m_module, config[\u001b[38;5;124m\"\u001b[39m\u001b[38;5;124mmodel\u001b[39m\u001b[38;5;124m\"\u001b[39m])\n\u001b[1;32m     36\u001b[0m \u001b[38;5;66;03m# we could instantiate the model using the args here\u001b[39;00m\n\u001b[1;32m     37\u001b[0m \u001b[38;5;66;03m# args = config[\"args\"]\u001b[39;00m\n\u001b[0;32m---> 38\u001b[0m \u001b[38;5;28mself\u001b[39m\u001b[38;5;241m.\u001b[39m_model \u001b[38;5;241m=\u001b[39m \u001b[43mmodel\u001b[49m\u001b[43m(\u001b[49m\u001b[43m)\u001b[49m\n\u001b[1;32m     40\u001b[0m \u001b[38;5;28mself\u001b[39m\u001b[38;5;241m.\u001b[39m_fn \u001b[38;5;241m=\u001b[39m \u001b[38;5;28mgetattr\u001b[39m(\u001b[38;5;28mself\u001b[39m\u001b[38;5;241m.\u001b[39m_model, config[\u001b[38;5;124m\"\u001b[39m\u001b[38;5;124mprediction_fn\u001b[39m\u001b[38;5;124m\"\u001b[39m][\u001b[38;5;124m\"\u001b[39m\u001b[38;5;124mcall\u001b[39m\u001b[38;5;124m\"\u001b[39m])\n\u001b[1;32m     42\u001b[0m \u001b[38;5;66;03m# get the call signature\u001b[39;00m\n",
      "File \u001b[0;32m~/opt/anaconda3/envs/scivision/lib/python3.9/site-packages/catdog_segmentation_model/model.py:20\u001b[0m, in \u001b[0;36mCatDogUNet.__init__\u001b[0;34m(self)\u001b[0m\n\u001b[1;32m     18\u001b[0m         f\u001b[38;5;241m.\u001b[39mwrite(r\u001b[38;5;241m.\u001b[39mcontent)\n\u001b[1;32m     19\u001b[0m \u001b[38;5;28mself\u001b[39m\u001b[38;5;241m.\u001b[39mmodel \u001b[38;5;241m=\u001b[39m unet\u001b[38;5;241m.\u001b[39mUNet()\n\u001b[0;32m---> 20\u001b[0m \u001b[38;5;28;43mself\u001b[39;49m\u001b[38;5;241;43m.\u001b[39;49m\u001b[43mmodel\u001b[49m\u001b[38;5;241;43m.\u001b[39;49m\u001b[43mload_state_dict\u001b[49m\u001b[43m(\u001b[49m\u001b[43mtorch\u001b[49m\u001b[38;5;241;43m.\u001b[39;49m\u001b[43mload\u001b[49m\u001b[43m(\u001b[49m\u001b[43mfilename\u001b[49m\u001b[43m)\u001b[49m\u001b[43m)\u001b[49m\n\u001b[1;32m     21\u001b[0m \u001b[38;5;28mself\u001b[39m\u001b[38;5;241m.\u001b[39mmodel\u001b[38;5;241m.\u001b[39meval()\n",
      "File \u001b[0;32m~/opt/anaconda3/envs/scivision/lib/python3.9/site-packages/torch/nn/modules/module.py:1604\u001b[0m, in \u001b[0;36mModule.load_state_dict\u001b[0;34m(self, state_dict, strict)\u001b[0m\n\u001b[1;32m   1599\u001b[0m         error_msgs\u001b[38;5;241m.\u001b[39minsert(\n\u001b[1;32m   1600\u001b[0m             \u001b[38;5;241m0\u001b[39m, \u001b[38;5;124m'\u001b[39m\u001b[38;5;124mMissing key(s) in state_dict: \u001b[39m\u001b[38;5;132;01m{}\u001b[39;00m\u001b[38;5;124m. \u001b[39m\u001b[38;5;124m'\u001b[39m\u001b[38;5;241m.\u001b[39mformat(\n\u001b[1;32m   1601\u001b[0m                 \u001b[38;5;124m'\u001b[39m\u001b[38;5;124m, \u001b[39m\u001b[38;5;124m'\u001b[39m\u001b[38;5;241m.\u001b[39mjoin(\u001b[38;5;124m'\u001b[39m\u001b[38;5;124m\"\u001b[39m\u001b[38;5;132;01m{}\u001b[39;00m\u001b[38;5;124m\"\u001b[39m\u001b[38;5;124m'\u001b[39m\u001b[38;5;241m.\u001b[39mformat(k) \u001b[38;5;28;01mfor\u001b[39;00m k \u001b[38;5;129;01min\u001b[39;00m missing_keys)))\n\u001b[1;32m   1603\u001b[0m \u001b[38;5;28;01mif\u001b[39;00m \u001b[38;5;28mlen\u001b[39m(error_msgs) \u001b[38;5;241m>\u001b[39m \u001b[38;5;241m0\u001b[39m:\n\u001b[0;32m-> 1604\u001b[0m     \u001b[38;5;28;01mraise\u001b[39;00m \u001b[38;5;167;01mRuntimeError\u001b[39;00m(\u001b[38;5;124m'\u001b[39m\u001b[38;5;124mError(s) in loading state_dict for \u001b[39m\u001b[38;5;132;01m{}\u001b[39;00m\u001b[38;5;124m:\u001b[39m\u001b[38;5;130;01m\\n\u001b[39;00m\u001b[38;5;130;01m\\t\u001b[39;00m\u001b[38;5;132;01m{}\u001b[39;00m\u001b[38;5;124m'\u001b[39m\u001b[38;5;241m.\u001b[39mformat(\n\u001b[1;32m   1605\u001b[0m                        \u001b[38;5;28mself\u001b[39m\u001b[38;5;241m.\u001b[39m\u001b[38;5;18m__class__\u001b[39m\u001b[38;5;241m.\u001b[39m\u001b[38;5;18m__name__\u001b[39m, \u001b[38;5;124m\"\u001b[39m\u001b[38;5;130;01m\\n\u001b[39;00m\u001b[38;5;130;01m\\t\u001b[39;00m\u001b[38;5;124m\"\u001b[39m\u001b[38;5;241m.\u001b[39mjoin(error_msgs)))\n\u001b[1;32m   1606\u001b[0m \u001b[38;5;28;01mreturn\u001b[39;00m _IncompatibleKeys(missing_keys, unexpected_keys)\n",
      "\u001b[0;31mRuntimeError\u001b[0m: Error(s) in loading state_dict for UNet:\n\tMissing key(s) in state_dict: \"encoder.encoding_blocks.0.conv1.conv_layer.weight\", \"encoder.encoding_blocks.0.conv1.conv_layer.bias\", \"encoder.encoding_blocks.0.conv1.block.0.weight\", \"encoder.encoding_blocks.0.conv1.block.0.bias\", \"encoder.encoding_blocks.0.conv2.conv_layer.weight\", \"encoder.encoding_blocks.0.conv2.conv_layer.bias\", \"encoder.encoding_blocks.0.conv2.block.0.weight\", \"encoder.encoding_blocks.0.conv2.block.0.bias\", \"encoder.encoding_blocks.1.conv1.conv_layer.weight\", \"encoder.encoding_blocks.1.conv1.conv_layer.bias\", \"encoder.encoding_blocks.1.conv1.block.0.weight\", \"encoder.encoding_blocks.1.conv1.block.0.bias\", \"encoder.encoding_blocks.1.conv2.conv_layer.weight\", \"encoder.encoding_blocks.1.conv2.conv_layer.bias\", \"encoder.encoding_blocks.1.conv2.block.0.weight\", \"encoder.encoding_blocks.1.conv2.block.0.bias\", \"encoder.encoding_blocks.2.conv1.conv_layer.weight\", \"encoder.encoding_blocks.2.conv1.conv_layer.bias\", \"encoder.encoding_blocks.2.conv1.block.0.weight\", \"encoder.encoding_blocks.2.conv1.block.0.bias\", \"encoder.encoding_blocks.2.conv2.conv_layer.weight\", \"encoder.encoding_blocks.2.conv2.conv_layer.bias\", \"encoder.encoding_blocks.2.conv2.block.0.weight\", \"encoder.encoding_blocks.2.conv2.block.0.bias\", \"encoder.encoding_blocks.3.conv1.conv_layer.weight\", \"encoder.encoding_blocks.3.conv1.conv_layer.bias\", \"encoder.encoding_blocks.3.conv1.block.0.weight\", \"encoder.encoding_blocks.3.conv1.block.0.bias\", \"encoder.encoding_blocks.3.conv2.conv_layer.weight\", \"encoder.encoding_blocks.3.conv2.conv_layer.bias\", \"encoder.encoding_blocks.3.conv2.block.0.weight\", \"encoder.encoding_blocks.3.conv2.block.0.bias\", \"bottom_block.conv1.conv_layer.weight\", \"bottom_block.conv1.conv_layer.bias\", \"bottom_block.conv1.block.0.weight\", \"bottom_block.conv1.block.0.bias\", \"bottom_block.conv2.conv_layer.weight\", \"bottom_block.conv2.conv_layer.bias\", \"bottom_block.conv2.block.0.weight\", \"bottom_block.conv2.block.0.bias\", \"decoder.decoding_blocks.0.upsample.weight\", \"decoder.decoding_blocks.0.upsample.bias\", \"decoder.decoding_blocks.0.conv1.conv_layer.weight\", \"decoder.decoding_blocks.0.conv1.conv_layer.bias\", \"decoder.decoding_blocks.0.conv1.block.0.weight\", \"decoder.decoding_blocks.0.conv1.block.0.bias\", \"decoder.decoding_blocks.0.conv2.conv_layer.weight\", \"decoder.decoding_blocks.0.conv2.conv_layer.bias\", \"decoder.decoding_blocks.0.conv2.block.0.weight\", \"decoder.decoding_blocks.0.conv2.block.0.bias\", \"decoder.decoding_blocks.1.upsample.weight\", \"decoder.decoding_blocks.1.upsample.bias\", \"decoder.decoding_blocks.1.conv1.conv_layer.weight\", \"decoder.decoding_blocks.1.conv1.conv_layer.bias\", \"decoder.decoding_blocks.1.conv1.block.0.weight\", \"decoder.decoding_blocks.1.conv1.block.0.bias\", \"decoder.decoding_blocks.1.conv2.conv_layer.weight\", \"decoder.decoding_blocks.1.conv2.conv_layer.bias\", \"decoder.decoding_blocks.1.conv2.block.0.weight\", \"decoder.decoding_blocks.1.conv2.block.0.bias\", \"decoder.decoding_blocks.2.upsample.weight\", \"decoder.decoding_blocks.2.upsample.bias\", \"decoder.decoding_blocks.2.conv1.conv_layer.weight\", \"decoder.decoding_blocks.2.conv1.conv_layer.bias\", \"decoder.decoding_blocks.2.conv1.block.0.weight\", \"decoder.decoding_blocks.2.conv1.block.0.bias\", \"decoder.decoding_blocks.2.conv2.conv_layer.weight\", \"decoder.decoding_blocks.2.conv2.conv_layer.bias\", \"decoder.decoding_blocks.2.conv2.block.0.weight\", \"decoder.decoding_blocks.2.conv2.block.0.bias\", \"decoder.decoding_blocks.3.upsample.weight\", \"decoder.decoding_blocks.3.upsample.bias\", \"decoder.decoding_blocks.3.conv1.conv_layer.weight\", \"decoder.decoding_blocks.3.conv1.conv_layer.bias\", \"decoder.decoding_blocks.3.conv1.block.0.weight\", \"decoder.decoding_blocks.3.conv1.block.0.bias\", \"decoder.decoding_blocks.3.conv2.conv_layer.weight\", \"decoder.decoding_blocks.3.conv2.conv_layer.bias\", \"decoder.decoding_blocks.3.conv2.block.0.weight\", \"decoder.decoding_blocks.3.conv2.block.0.bias\", \"classifier.conv_layer.weight\", \"classifier.conv_layer.bias\", \"classifier.block.0.weight\", \"classifier.block.0.bias\". \n\tUnexpected key(s) in state_dict: \"head.weight\", \"head.bias\", \"encoder.enc_blocks.0.conv1.weight\", \"encoder.enc_blocks.0.conv1.bias\", \"encoder.enc_blocks.0.conv2.weight\", \"encoder.enc_blocks.0.conv2.bias\", \"encoder.enc_blocks.1.conv1.weight\", \"encoder.enc_blocks.1.conv1.bias\", \"encoder.enc_blocks.1.conv2.weight\", \"encoder.enc_blocks.1.conv2.bias\", \"encoder.enc_blocks.2.conv1.weight\", \"encoder.enc_blocks.2.conv1.bias\", \"encoder.enc_blocks.2.conv2.weight\", \"encoder.enc_blocks.2.conv2.bias\", \"encoder.enc_blocks.3.conv1.weight\", \"encoder.enc_blocks.3.conv1.bias\", \"encoder.enc_blocks.3.conv2.weight\", \"encoder.enc_blocks.3.conv2.bias\", \"encoder.enc_blocks.4.conv1.weight\", \"encoder.enc_blocks.4.conv1.bias\", \"encoder.enc_blocks.4.conv2.weight\", \"encoder.enc_blocks.4.conv2.bias\", \"decoder.upconvs.0.weight\", \"decoder.upconvs.0.bias\", \"decoder.upconvs.1.weight\", \"decoder.upconvs.1.bias\", \"decoder.upconvs.2.weight\", \"decoder.upconvs.2.bias\", \"decoder.upconvs.3.weight\", \"decoder.upconvs.3.bias\", \"decoder.dec_blocks.0.conv1.weight\", \"decoder.dec_blocks.0.conv1.bias\", \"decoder.dec_blocks.0.conv2.weight\", \"decoder.dec_blocks.0.conv2.bias\", \"decoder.dec_blocks.1.conv1.weight\", \"decoder.dec_blocks.1.conv1.bias\", \"decoder.dec_blocks.1.conv2.weight\", \"decoder.dec_blocks.1.conv2.bias\", \"decoder.dec_blocks.2.conv1.weight\", \"decoder.dec_blocks.2.conv1.bias\", \"decoder.dec_blocks.2.conv2.weight\", \"decoder.dec_blocks.2.conv2.bias\", \"decoder.dec_blocks.3.conv1.weight\", \"decoder.dec_blocks.3.conv1.bias\", \"decoder.dec_blocks.3.conv2.weight\", \"decoder.dec_blocks.3.conv2.bias\". "
     ]
    }
   ],
   "source": [
    "# Note: when loading this model repo for the first time you'll need to add the allow_install=True flag\n",
    "our_model = load_pretrained_model(model_repo, name = \"conv_net_model_mse10\", allow_install=True)"
   ]
  },
  {
   "cell_type": "code",
   "execution_count": null,
   "id": "bb50fa43",
   "metadata": {},
   "outputs": [],
   "source": [
    "our_model"
   ]
  },
  {
   "cell_type": "code",
   "execution_count": null,
   "id": "cecee9d9",
   "metadata": {},
   "outputs": [],
   "source": [
    "compatible_datasources = default_catalog.compatible_datasources(\"image-classifiers\").to_dataframe()\n",
    "compatible_datasources\n",
    "\n",
    "target_datasource = compatible_datasources.loc[compatible_datasources['name'] == 'data-007']\n",
    "\n",
    "data_url = target_datasource['url'].item()\n",
    "data_url"
   ]
  },
  {
   "cell_type": "code",
   "execution_count": null,
   "id": "a17e66e9",
   "metadata": {},
   "outputs": [],
   "source": [
    "data_config = load_dataset(data_url)\n",
    "data_config"
   ]
  },
  {
   "cell_type": "code",
   "execution_count": null,
   "id": "3e36a668",
   "metadata": {},
   "outputs": [],
   "source": [
    "test_image = data_config.oxford().to_dask() # The xarray.DataArray is one format accepted by the our models\n",
    "test_image"
   ]
  },
  {
   "cell_type": "code",
   "execution_count": null,
   "id": "48ba45f8",
   "metadata": {},
   "outputs": [],
   "source": [
    "plt.imshow(test_image[0])"
   ]
  },
  {
   "cell_type": "code",
   "execution_count": null,
   "id": "93beac89",
   "metadata": {},
   "outputs": [],
   "source": [
    "### Use model"
   ]
  },
  {
   "cell_type": "code",
   "execution_count": null,
   "id": "149c257a",
   "metadata": {},
   "outputs": [],
   "source": [
    "prediction = our_model.predict(test_image[0])\n",
    "prediction"
   ]
  }
 ],
 "metadata": {
  "kernelspec": {
   "display_name": "Python [conda env:scivision]",
   "language": "python",
   "name": "conda-env-scivision-py"
  },
  "language_info": {
   "codemirror_mode": {
    "name": "ipython",
    "version": 3
   },
   "file_extension": ".py",
   "mimetype": "text/x-python",
   "name": "python",
   "nbconvert_exporter": "python",
   "pygments_lexer": "ipython3",
   "version": "3.9.13"
  }
 },
 "nbformat": 4,
 "nbformat_minor": 5
}
